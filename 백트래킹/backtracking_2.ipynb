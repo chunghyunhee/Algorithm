{
  "nbformat": 4,
  "nbformat_minor": 0,
  "metadata": {
    "colab": {
      "name": "backtracking #2.ipynb",
      "provenance": [],
      "collapsed_sections": []
    },
    "kernelspec": {
      "name": "python3",
      "display_name": "Python 3"
    }
  },
  "cells": [
    {
      "cell_type": "markdown",
      "metadata": {
        "id": "REQQhf9UURVG",
        "colab_type": "text"
      },
      "source": [
        "# 1. N과 M(2)\n",
        "- 자연수 N과 M이 주어졌을 때 아래 조건을 만족하는 길이가 M인 수열을 모두 구하는 프로그램을 작성한다\n",
        "- 1부터 N까지 자연수 중에서 중복없이 M개를 고른 수열\n",
        "- 고른 수열은 오름차순이어야 한다. \n",
        "- 결국 **조합**에 대한 문제이다. \n",
        "- 조합함수를 사용할 수도 있고, dfs를 사용하여 풀이할 수도 있다. \n",
        "- 조합함수를 사용하는 경우는 def를 사용할 필요가 없고 def를 사용할 경우는 def로 객체를 생성하는 것이 유리하다. "
      ]
    },
    {
      "cell_type": "code",
      "metadata": {
        "id": "YYYHom1EVYCl",
        "colab_type": "code",
        "colab": {
          "base_uri": "https://localhost:8080/",
          "height": 141
        },
        "outputId": "2fd87228-1b18-47da-a534-468e34391588"
      },
      "source": [
        "# API사용하여 조합 계산하는 경우 \n",
        "from itertools import permutations\n",
        "\n",
        "# 입력받는 수 \n",
        "n1, n2 = map(int, input().split())\n",
        "\n",
        "# 입력받은 수로 item 리스트 완성 \n",
        "item = []\n",
        "\n",
        "for i in range(n1):\n",
        "  item.append(i+1)\n",
        "\n",
        "# 리스트에 저장된 수의 조합의 경우의 수 생성\n",
        "a = list(combinations(item, n2))\n",
        "\n",
        "# 원하는 출력 형태로 변경\n",
        "for i in range(len(a)):\n",
        "  for j in range(len(a[i])):\n",
        "    print(a[i][j], end = ' ')\n",
        "  print()"
      ],
      "execution_count": 40,
      "outputs": [
        {
          "output_type": "stream",
          "text": [
            "4 2\n",
            "1 2 \n",
            "1 3 \n",
            "1 4 \n",
            "2 3 \n",
            "2 4 \n",
            "3 4 \n"
          ],
          "name": "stdout"
        }
      ]
    },
    {
      "cell_type": "code",
      "metadata": {
        "id": "0sHaxLxoYnMp",
        "colab_type": "code",
        "colab": {
          "base_uri": "https://localhost:8080/",
          "height": 141
        },
        "outputId": "d9211809-8e4b-4386-ba79-fa72ca9c87e2"
      },
      "source": [
        "# dfs로 풀이하여 조합구하는 경우 \n",
        "# 입력받는 수 \n",
        "n1, n2 = map(int, input().split())\n",
        "\n",
        "# 입력받은 수로 item 리스트 완성 \n",
        "item = []\n",
        "\n",
        "for i in range(n1):\n",
        "  item.append(i+1)\n",
        "\n",
        "# 중복 확인하기 위한 리스트\n",
        "check_list = [False]*n1\n",
        "\n",
        "# 출력을 위한 만든 리스트 \n",
        "arr = []\n",
        "\n",
        "def dfs(cnt):\n",
        "\n",
        "  # 출력하기로한 숫자가 되면 출력해야 함 \n",
        "  if(cnt == n2):\n",
        "    print(*arr)\n",
        "    return\n",
        "  \n",
        "  # 출력할 수를 만족하기 전단계\n",
        "  for i in range(0, n1):\n",
        "    # 이미 지나간 숫자인지를 확인\n",
        "    if(check_list[i]):\n",
        "      continue\n",
        "    \n",
        "    # 이미 지나간 숫자가 아니면, True로 바꾸고 arr에 저장\n",
        "    check_list[i] = True\n",
        "    arr.append(item[i])\n",
        "    dfs(cnt+1)\n",
        "\n",
        "    # print후에는 다시 돌아와서 pop후 다시 탐색\n",
        "    arr.pop()\n",
        "    # 다시 탐색하기 위해 지나간 자리 False수정 \n",
        "    for j in range(i+1, n1):\n",
        "      check_list[j] = False\n",
        "\n",
        "# 조합 함수 실행 \n",
        "dfs(0)"
      ],
      "execution_count": 44,
      "outputs": [
        {
          "output_type": "stream",
          "text": [
            "4 2\n",
            "1 2\n",
            "1 3\n",
            "1 4\n",
            "2 3\n",
            "2 4\n",
            "3 4\n"
          ],
          "name": "stdout"
        }
      ]
    },
    {
      "cell_type": "markdown",
      "metadata": {
        "id": "cMkjf6gucLnx",
        "colab_type": "text"
      },
      "source": [
        "# 2. N과 M(4)\n",
        "- 자연수 N과 M이 주어졌을 때, 아래 조건을 만족하는 길이가 M인 수열을 모두 구하는 프로그램을 작성한다. \n",
        "- 1~N까지 자연수 중에서 M개를 고른 수열 \n",
        "- 같은 수를 여러번 고를 수 있다. \n",
        "- 고른 수열은 비내림차순이어야 한다\n",
        "- 결국 중복 조합에 해당한다"
      ]
    },
    {
      "cell_type": "code",
      "metadata": {
        "id": "8z41l942bVeB",
        "colab_type": "code",
        "colab": {
          "base_uri": "https://localhost:8080/",
          "height": 212
        },
        "outputId": "7733b3c2-c3bf-4b0c-dcb6-9da97fe6b83d"
      },
      "source": [
        "# dfs로 풀이하여 조합구하는 경우 \n",
        "# 입력받는 수 \n",
        "n1, n2 = map(int, input().split())\n",
        "\n",
        "# 입력받은 수로 item 리스트 완성 \n",
        "item = []\n",
        "\n",
        "for i in range(n1):\n",
        "  item.append(i+1)\n",
        "\n",
        "# 중복 확인하기 위한 리스트\n",
        "check_list = [False]*n1\n",
        "\n",
        "# 출력을 위한 만든 리스트 \n",
        "arr = []\n",
        "\n",
        "def dfs(cnt):\n",
        "\n",
        "  # 출력하기로한 숫자가 되면 출력해야 함 \n",
        "  if(cnt == n2):\n",
        "    print(*arr)\n",
        "    return\n",
        "  \n",
        "  # 출력할 수를 만족하기 전단계\n",
        "  for i in range(0, n1):\n",
        "    # 이미 지나간 숫자인지를 확인\n",
        "    if(check_list[i]):\n",
        "      continue\n",
        "    \n",
        "    # 이미 지나간 숫자가 아니면, True로 바꾸고 arr에 저장\n",
        "    arr.append(item[i])\n",
        "    dfs(cnt+1)\n",
        "    check_list[i] = True\n",
        "\n",
        "    # print후에는 다시 돌아와서 pop후 다시 탐색\n",
        "    arr.pop()\n",
        "    # 다시 탐색하기 위해 지나간 자리 False수정 \n",
        "    for j in range(i+1, n1):\n",
        "      check_list[j] = False\n",
        "\n",
        "# 조합 함수 실행 \n",
        "dfs(0)"
      ],
      "execution_count": 52,
      "outputs": [
        {
          "output_type": "stream",
          "text": [
            "4 2\n",
            "1 1\n",
            "1 2\n",
            "1 3\n",
            "1 4\n",
            "2 2\n",
            "2 3\n",
            "2 4\n",
            "3 3\n",
            "3 4\n",
            "4 4\n"
          ],
          "name": "stdout"
        }
      ]
    },
    {
      "cell_type": "markdown",
      "metadata": {
        "id": "tExQcaFQf46F",
        "colab_type": "text"
      },
      "source": [
        "# 3. 스도쿠\n",
        "- 총 9*9의 81개의 칸으로 이루어져 있다. \n",
        "- 게임 시작전 스도쿠 판에 쓰여 있는 숫자들의 정보가 주어질 때 모든 빈칸이 채워진 최종 모습을 출력하는 프로그램을 작성한다.\n",
        "- 0으로 입력된 수를 숫자로 채우는 알고리즘을 작성해야 한다. \n",
        "- *만족해야 하는 조건*\n",
        "1. 각각의 가로줄과 세로줄에는 1~9까지의 숫자가 한번만 나타나야 한다. \n",
        "2.  굵은 선으로 구분된 3*3 정사각형 안에도 1~9까지의 수가 한번만 나타나야 한다."
      ]
    },
    {
      "cell_type": "code",
      "metadata": {
        "id": "piJgfgDEdqyO",
        "colab_type": "code",
        "colab": {
          "base_uri": "https://localhost:8080/",
          "height": 177
        },
        "outputId": "4839ed05-069b-435d-b494-8e297e0f6bed"
      },
      "source": [
        "# 2차원배열을 입력받아 저장한다.(9*9)\n",
        "num = 9\n",
        "board = [[int(x) for x in input().split()] for y in range(num)]"
      ],
      "execution_count": 56,
      "outputs": [
        {
          "output_type": "stream",
          "text": [
            "1 2 3 4 5 6 7 8 9\n",
            "1 2 3 4 5 6 7 8 9\n",
            "1 2 3 4 5 6 7 8 9\n",
            "1 2 3 4 5 6 7 8 9\n",
            "1 2 3 4 5 6 7 8 9\n",
            "1 2 3 4 5 6 7 8 9\n",
            "1 2 3 4 5 6 7 8 9\n",
            "1 2 3 4 5 6 7 8 9\n",
            "1 2 3 4 5 6 7 8 9\n"
          ],
          "name": "stdout"
        }
      ]
    },
    {
      "cell_type": "code",
      "metadata": {
        "id": "xnV2SIU_itVu",
        "colab_type": "code",
        "colab": {}
      },
      "source": [
        "def Sudoku(mat):\n",
        "  "
      ],
      "execution_count": null,
      "outputs": []
    },
    {
      "cell_type": "code",
      "metadata": {
        "id": "Ddy9sVIYlal_",
        "colab_type": "code",
        "colab": {}
      },
      "source": [
        ""
      ],
      "execution_count": null,
      "outputs": []
    },
    {
      "cell_type": "markdown",
      "metadata": {
        "id": "8Y_D36p9lbMN",
        "colab_type": "text"
      },
      "source": [
        "# 4.연산자 끼워넣기 \n",
        "- N개의 수와 (N-1)개의 연산자가 주어졌을 때 만들 수 있는 식의 결과가 최대인 것과 최소인 것을 구하는 프로그램을 작성\n",
        "- 입력값 : 숫자의 수 / 숫자 / 덧셈의 수, 뺄셈의 수, 곱셈의 수, 나눗셈의 수가 입력된다, "
      ]
    },
    {
      "cell_type": "code",
      "metadata": {
        "id": "pIePXA3XmpXf",
        "colab_type": "code",
        "colab": {
          "base_uri": "https://localhost:8080/",
          "height": 52
        },
        "outputId": "ded9010c-e092-406a-bab8-e31f4169dac2"
      },
      "source": [
        "# 입력값\n",
        "n = int(input())                     # 입력할 숫자의 수 \n",
        "s = list(map(int, input().split()))  # 숫자 리스트 \n",
        "op = list(map(int, input().split())) # 각 연산자의수 \n",
        "\n",
        "def dfs(cnt, result, p, m, mul, div):\n",
        "  '''\n",
        "\n",
        "  Args.\n",
        "  cnt            : 백트래킹의 경우의수를 확인하기 위한 값\n",
        "  result         : 연산자와 피연산자를 계산한 결과값을 저장\n",
        "  p, m, mul, div : 각 연산자의 갯수를 의미 \n",
        "\n",
        "  Out.\n",
        "  입력받은 수로 계산될 수 있는 최댓값, 최솟값 반환 \n",
        "\n",
        "  '''\n",
        "  # max, min vlaue \n",
        "  global max_result\n",
        "  global min_result\n",
        "\n",
        "  # max, min vlaue check (by dfs definition)\n",
        "  # 모든 숫자의 연산 중 max,min값을 알고자 한다, \n",
        "  if cnt == n:\n",
        "    max_result = max(max_result, result)\n",
        "    min_result = min(min_result, result)\n",
        "    return\n",
        "  \n",
        "  # be calculated vlaue \n",
        "  if p:\n",
        "    dfs(cnt+1, result+s[cnt], p-1, m, mul, div)\n",
        "  if m:\n",
        "    dfs(cnt+1, result-s[cnt], p, m-1, mul, div)\n",
        "  if mul:\n",
        "    dfs(cnt+1, result*s[cnt], p, m, mul-1, div)\n",
        "  if div:\n",
        "    dfs(cnt+1, -(-result // c[cnt]) if result <0 else result // s[cnt], p, m, mul, div-1)\n",
        "\n",
        "# max,min값 초깃값 설정 \n",
        "max_result = -1000000001\n",
        "min_result = 1000000001\n",
        "\n",
        "# dfs 함수 선언 \n",
        "dfs(1, s[0], op[0], op[1], op[2], op[3])\n",
        "\n",
        "# 출력형태 \n",
        "print(max_result)\n",
        "print(min_result)"
      ],
      "execution_count": 4,
      "outputs": [
        {
          "output_type": "stream",
          "text": [
            "30\n",
            "30\n"
          ],
          "name": "stdout"
        }
      ]
    },
    {
      "cell_type": "code",
      "metadata": {
        "id": "PGNR3BlxpvBo",
        "colab_type": "code",
        "colab": {}
      },
      "source": [
        ""
      ],
      "execution_count": null,
      "outputs": []
    },
    {
      "cell_type": "markdown",
      "metadata": {
        "id": "2_v_YW_YsoKi",
        "colab_type": "text"
      },
      "source": [
        "# 5. 스타트와 링크\n",
        "- 모인 사람의 수는 N명이고, N은 항상 짝수이다. \n",
        "- N/2명으로 이루어진 스타트 팀과 링크 팀으로 나누고자 한다. \n",
        "- 사람들에게 번호를 1~N까지 부여하고, 각 능력치를 조사했다. \n",
        "- 팀의 능력치는 팀에 속한 모든 쌍의 능력치 Sij의 합이다. \n",
        "- 스타트팀의 능력치와 링크 팀의 능력치 차이를 최소로 하려고 한다. \n",
        "- 입력 : N , 능력치 2차원행렬\n",
        "- 출력 : 스타트팀과 링크 팀의 능력치 차이 최솟값\n",
        "- 조합으로 모든 팀 조합을 구한 후, 각각의 팀 능력치를 생성하여 비교하면 된다. "
      ]
    },
    {
      "cell_type": "code",
      "metadata": {
        "id": "LLIXigPQ1ae4",
        "colab_type": "code",
        "colab": {}
      },
      "source": [
        "from itertools import combinations\n",
        "\n",
        "# 입력할 사람의 수 N\n",
        "N = int(input())\n",
        "\n",
        "# 각 능력치 행렬 \n",
        "ability_board = []\n",
        "for _ in range(N):\n",
        "  ability_board.append(list(map(int, input().split())))\n",
        "\n",
        "# 조합을 생성하기 위한 리스트 \n",
        "num_list = []\n",
        "for i in range(N):\n",
        "  num_list.append(i)\n",
        "\n",
        "# 두 팀의 점수차 초깃값\n",
        "res = float('inf') \n",
        "\n",
        "\n",
        "def ClacRes():\n",
        "  '''\n",
        "  두 팀의 능력치 차이를 계산하기 위한 함수이다\n",
        "  Args.\n",
        "  None\n",
        "\n",
        "  Out.\n",
        "  global로 선언된 res값을 출력한다. \n",
        "  '''\n",
        "\n",
        "  # 두 팀의 차이값을 전역으로 선언\n",
        "  global res\n",
        "\n",
        "  # 후보가 될 수 있는 조합을 생성\n",
        "  for cand in combinations(num_list, N//2):\n",
        "    start_mem = list(cand)\n",
        "    link_mem = list(set(num_list) - set(cand)) # 선택된 후보의 나머지\n",
        "\n",
        "    # 점수비교 가능한 조합(2명)\n",
        "    start_comb = list(combinations(start_mem,2))\n",
        "    link_comb = list(combinations(link_mem,2))\n",
        "\n",
        "    # 각 팀의 점수 계산\n",
        "    start_score = 0\n",
        "    for x,y in start_comb:\n",
        "      start_score += (ability_board[x][y]+ ability_board[y][x])\n",
        "\n",
        "    link_score = 0\n",
        "    for x,y in link_comb:\n",
        "      link_score += (ability_board[x][y]+ ability_board[y][x])\n",
        "\n",
        "    # 구한 두 팀의 점수의 차이를 구한다. \n",
        "    if(res > abs(start_score - link_score)):\n",
        "      res = abs(start_score - link_score)\n",
        "\n",
        "\n",
        "ClacRes()\n",
        "print(res) # 전역으로 선언된 두 팀의 점수 차이를 확인한다. "
      ],
      "execution_count": 27,
      "outputs": []
    },
    {
      "cell_type": "code",
      "metadata": {
        "id": "UKS_3Lnp39xw",
        "colab_type": "code",
        "colab": {}
      },
      "source": [
        ""
      ],
      "execution_count": null,
      "outputs": []
    }
  ]
}